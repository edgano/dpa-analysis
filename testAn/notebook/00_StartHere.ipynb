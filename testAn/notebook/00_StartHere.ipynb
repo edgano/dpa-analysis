{
 "cells": [
  {
   "cell_type": "markdown",
   "metadata": {},
   "source": [
    "# Regressive Alignment Analysis\n",
    "\n",
    "The following series of [Jupyter](http://jupyter.org/) notebooks for the publication \"Fast and accurate large multiple sequence alignments using root-to-leave regressive computation\".\n",
    "\n",
    "To replicate the analysis in full, each notebook should be executed in the order below as results of previous notebooks are used in the subsequent ones.\n",
    "\n",
    "\n",
    "### [1. Sequences and Reference Data (Python / Bash)](01_Sequences_and_reference_data.ipynb)\n",
    "Desciption of the HomFam sequences and reference alignment datasets used in this study.\n",
    "\n",
    "\n",
    "### [2. Guide Trees (Python/Nextflow)](02_Guide_trees.ipynb)\n",
    "Guide Trees and commands used to generate guide trees.\n",
    "\n",
    "\n",
    "### [3. Alignments (Python/Nextflow)](03_Alignments.ipynb)\n",
    "Alignments and commands used to generate alignments.\n",
    "\n",
    "\n",
    "### [4. Tables (Python)](04_Tables.ipynb)\n",
    "Generation of tables and preparation of data for figures.\n",
    "\n",
    "\n",
    "### [5. Figures (R)](05_Figures.ipynb)\n",
    "Figures from the publication."
   ]
  },
  {
   "cell_type": "code",
   "execution_count": null,
   "metadata": {},
   "outputs": [],
   "source": []
  }
 ],
 "metadata": {
  "kernelspec": {
   "display_name": "Python 3",
   "language": "python",
   "name": "python3"
  },
  "language_info": {
   "codemirror_mode": {
    "name": "ipython",
    "version": 3
   },
   "file_extension": ".py",
   "mimetype": "text/x-python",
   "name": "python",
   "nbconvert_exporter": "python",
   "pygments_lexer": "ipython3",
   "version": "3.6.6"
  }
 },
 "nbformat": 4,
 "nbformat_minor": 2
}
