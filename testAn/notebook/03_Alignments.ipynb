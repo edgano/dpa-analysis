{
 "cells": [
  {
   "cell_type": "markdown",
   "metadata": {},
   "source": [
    "## Alignments\n",
    "The following commands execute a series of Nextflow workflows that generate and evaluate the Multiple Sequence Alignments (MSAs).\n",
    "\n",
    "The command lines used for the regressive alignments can be found in the `templates/dpa_align` directory of the repository.\n",
    "\n",
    "The command lines used for the standard alignments (with input guide-trees provided) can be found in the `templates/std_align` directory of the repository.\n",
    "\n",
    "The command lines used for the default alignments (internal guide-trees used) can be found in the `templates/default_align` directory of the repository.\n",
    "\n",
    "The command lines used to evaluate the alignments uses T-Coffee can be found in the evaluate process of the Nextflow workflow script (`main.nf`)."
   ]
  },
  {
   "cell_type": "code",
   "execution_count": null,
   "metadata": {},
   "outputs": [],
   "source": [
    "import os\n",
    "pwd = os.getcwd()\n",
    "work_dir=pwd+\"/..\"\n",
    "os.chdir(work_dir)\n",
    "os.getcwd()"
   ]
  },
  {
   "cell_type": "code",
   "execution_count": null,
   "metadata": {},
   "outputs": [],
   "source": [
    "!nextflow run main.nf \\\n",
    "             --align_method='CLUSTALO,MAFFT-FFTNS1' \\\n",
    "             --trees='data/trees/*.{CLUSTALO,MAFFT-FFTNS1,MAFFT_PARTTREE}.dnd' \\\n",
    "             --tree_method='none' \\\n",
    "             --refs='data/refs/*.ref' \\\n",
    "             --seqs='data/combined_seqs/*.fa' \\\n",
    "             --regressive_align=true \\\n",
    "             --standard_align=true \\\n",
    "             --default_align=false \\\n",
    "             --output results \\\n",
    "             -profile crg \\\n",
    "             -with-singularity\n",
    "             -resume\n",
    "    "
   ]
  },
  {
   "cell_type": "code",
   "execution_count": null,
   "metadata": {},
   "outputs": [],
   "source": [
    "!nextflow run main.nf \\\n",
    "             --align_method='MAFFT-GINSI' \\\n",
    "             --trees='data/trees/*.{CLUSTALO,MAFFT-FFTNS1,MAFFT_PARTTREE}.dnd' \\\n",
    "             --tree_method='none' \\\n",
    "             --refs='data/refs/*.ref' \\\n",
    "             --seqs='data/combined_seqs/*.fa' \\\n",
    "             --regressive_align=true \\\n",
    "             --standard_align=false \\\n",
    "             --default_align=false \\\n",
    "             --output results \\\n",
    "             -profile crg \\\n",
    "             -with-singularity \\\n",
    "             -resume"
   ]
  },
  {
   "cell_type": "code",
   "execution_count": null,
   "metadata": {},
   "outputs": [],
   "source": [
    "!nextflow run main.nf \\\n",
    "             --align_method='UPP,MAFFT-SPARSECORE' \\\n",
    "             --trees='data/trees/*.{CLUSTALO,MAFFT-FFTNS1,MAFFT_PARTTREE}.dnd' \\\n",
    "             --tree_method='none' \\\n",
    "             --refs='data/refs/*.ref' \\\n",
    "             --seqs='data/combined_seqs/*.fa' \\\n",
    "             --regressive_align=true \\\n",
    "             --standard_align=false \\\n",
    "             --default_align=true \\\n",
    "             --output results \\\n",
    "             -profile crg \\\n",
    "             -with-singularity \\\n",
    "             -resume"
   ]
  },
  {
   "cell_type": "code",
   "execution_count": null,
   "metadata": {},
   "outputs": [],
   "source": [
    "!nextflow run main.nf \\\n",
    "             --align_method='CLUSTALO,MAFFT-FFTNS1,MAFFT-GINSI' \\\n",
    "             --tree_method='CLUSTALO,MAFFT-FFTNS1,MAFFT_PARTTREE' \\\n",
    "             --refs='data/refs/*.ref' \\\n",
    "             --seqs='data/refs_fasta/*.ref' \\\n",
    "             --regressive_align=true \\\n",
    "             --standard_align=true \\\n",
    "             --default_align=false \\\n",
    "             --output results_reference \\\n",
    "             -profile crg \\\n",
    "             -with-singularity \\\n",
    "             -resume"
   ]
  },
  {
   "cell_type": "code",
   "execution_count": null,
   "metadata": {},
   "outputs": [],
   "source": [
    "!nextflow run main.nf \\\n",
    "             --align_method='UPP,MAFFT-SPARSECORE' \\\n",
    "             --tree_method='CLUSTALO,MAFFT-FFTNS1,MAFFT_PARTTREE' \\\n",
    "             --refs='data/refs/*.ref' \\\n",
    "             --seqs='data/refs_fasta/*.ref' \\\n",
    "             --regressive_align=true \\\n",
    "             --standard_align=false \\\n",
    "             --default_align=true \\\n",
    "             --output results_reference \\\n",
    "             -profile crg \\\n",
    "             -with-singularity \\\n",
    "             -resume"
   ]
  }
 ],
 "metadata": {
  "kernelspec": {
   "display_name": "Python 3",
   "language": "python",
   "name": "python3"
  },
  "language_info": {
   "codemirror_mode": {
    "name": "ipython",
    "version": 3
   },
   "file_extension": ".py",
   "mimetype": "text/x-python",
   "name": "python",
   "nbconvert_exporter": "python",
   "pygments_lexer": "ipython3",
   "version": "3.6.6"
  }
 },
 "nbformat": 4,
 "nbformat_minor": 2
}
